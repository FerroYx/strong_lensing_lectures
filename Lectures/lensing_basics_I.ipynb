{
 "cells": [
  {
   "cell_type": "markdown",
   "metadata": {},
   "source": [
    "# Strong gravitational lensing\n",
    "\n",
    "### interactive lecture notes with code examples\n",
    "\n",
    "This lecture notebook provides the basic theory and equations of gravitational lensing and interactive code examples using [lenstronomy](https://github.com/sibirrer/lenstronomy)."
   ]
  },
  {
   "cell_type": "markdown",
   "metadata": {},
   "source": [
    "Additional material and partial sources of this notebook:\n",
    "    \n",
    "- [Lecture notes by M. Meneghetti](https://www.ita.uni-heidelberg.de/~jmerten/misc/meneghetti_lensing.pdf)\n",
    "- [Bartelmann & Schneider 2001; Weak gravitational lensing](https://ui.adsabs.harvard.edu/abs/2001PhR...340..291B/abstract)\n",
    "- [Slides by S. Suyu for the XXIV Canary Islands Winter School of Astrophysics 2012](http://research.iac.es/winterschool/2012/media/Suyu_L2.pdf)\n",
    "- [wikipedia: gravitational lensing formalism](https://en.wikipedia.org/wiki/Gravitational_lensing_formalism)\n",
    "- [Saas Fee lectures by C.S. Kochanek, P. Schneider, J. Wambsganss 2004](https://www.astro.umd.edu/~richard/ASTR680/Kochanek_strong_lensing.pdf)\n",
    "- [Introduction to Gravitational Lensing and Cosmology, P. Schneider](https://www.astro.umd.edu/~richard/ASTR680/Schneider_lensing_intro.pdf)"
   ]
  },
  {
   "cell_type": "code",
   "execution_count": null,
   "metadata": {},
   "outputs": [],
   "source": [
    "!pip install lenstronomy==1.10.2  # tested with version 1.9.0\n",
    "\n",
    "import matplotlib.pyplot as plt\n",
    "%matplotlib inline\n",
    "\n",
    "import numpy as np\n",
    "import numpy.testing as npt"
   ]
  },
  {
   "cell_type": "markdown",
   "metadata": {},
   "source": [
    "# Theory\n",
    "\n",
    "In this part we go through the basic equations of gravitational lensing with an emphasis on the regime of one dominant main (strong) deflector."
   ]
  },
  {
   "cell_type": "markdown",
   "metadata": {},
   "source": [
    "## Lens equation\n",
    "\n",
    "\n",
    "In general, we denote $\\vec{\\beta}$ as the angular coordinate of the source in the absence of lensing, $\\vec{\\theta}$ as the angular coordinate on the sky in the presence of lensing, and $\\vec{\\alpha}$ as the angular deflection as seen on the sky between appearance and unlensed angular coordinate. \n",
    "The lens equation describes the distortion of a coordinate in the source plane as been seen on the image plane:\n",
    "\n",
    "$$ \\vec{\\beta} = \\vec{\\theta} - \\vec{\\alpha}(\\vec{\\theta}).$$\n",
    "\n",
    "In case of a single deflector, the physical deflection angle $\\hat{\\alpha}$ is related to the reduced deflection angle $\\vec{\\alpha}$ as\n",
    "\n",
    "$$\\vec{\\alpha}(\\vec{\\theta}) \\equiv \\frac{D_{\\rm ds}}{D_{\\rm s}} \\vec{\\hat{\\alpha}}(D_{\\rm d}\\boldsymbol{\\theta}),$$\n",
    "with $D_{\\rm s}$ is the angular diameter distance from the observer to the source, and $D_{\\rm ds}$ is the angular diameter distance from the deflector to the source.\n",
    "\n",
    "In terms of physical coordinates $\\vec{\\eta} = D_{\\rm s} \\vec{\\beta}$ and $\\vec{\\xi} = D_{\\rm d}\\vec{\\theta}$ (where $D_{\\rm d}$ is the angular diameter distance from the observer to the deflector) the mapping results in\n",
    "\n",
    "$$ \\vec{\\eta} = \\frac{D_{\\rm S}}{D_{\\rm d}} \\vec{\\xi} - D_{\\rm ds}\\hat{\\vec{\\alpha}}(\\vec{\\xi}).$$\n",
    "\n",
    "\n",
    "\n"
   ]
  },
  {
   "cell_type": "code",
   "execution_count": null,
   "metadata": {},
   "outputs": [],
   "source": [
    "from IPython.display import Image\n",
    "Image(url= \"https://raw.githubusercontent.com/sibirrer/strong_lensing_lectures/main/Graphics/lens_equation.png\", width=400, height=400)\n"
   ]
  },
  {
   "cell_type": "markdown",
   "metadata": {},
   "source": [
    "Figure by [Bartelmann & Schneider 2001](https://ui.adsabs.harvard.edu/abs/2001PhR...340..291B/abstract).\n"
   ]
  },
  {
   "cell_type": "markdown",
   "metadata": {},
   "source": [
    "## Deflection angle \n",
    "$\\textit{(physical and reduced deflections)}$\n",
    "\n",
    "Fom General Relativity, a point mass deflects a light ray passing at an impact parameter $\\xi$ by a deflection\n",
    "\n",
    "$$\\hat{\\boldsymbol{\\alpha}} = \\frac{4GM}{c^2 \\xi}. $$\n",
    "\n",
    "In the weak gravitational regime with small deflection angles, a light ray travelling through a path described as $(\\xi'_1, \\xi'_2, z')$ with density $\\rho$ will get phyiscally deflected by\n",
    "\n",
    "$$ \\hat{\\boldsymbol{\\alpha}}(\\boldsymbol{\\xi}) = \\frac{4G}{c^2} \\int {\\rm d^2}\\boldsymbol{\\xi'} \\int {\\rm d}z' \\rho(\\xi'_1, \\xi'_2, z') \\frac{\\boldsymbol{\\xi} - \\boldsymbol{\\xi'}}{\\left| \\boldsymbol{\\xi} - \\boldsymbol{\\xi'} \\right|^2}. $$\n",
    "\n",
    "In this regime, we can write the lensing quantities as a function of the projected surface mass density $\\Sigma(\\boldsymbol{\\xi})$\n",
    "\n",
    "$$ \\Sigma(\\boldsymbol{\\xi}) = \\int {\\rm d}z' \\rho(\\xi'_1, \\xi'_2, z') $$\n",
    "\n",
    "and with (from box above)\n",
    "$$\\boldsymbol{\\alpha}(\\boldsymbol{\\theta}) \\equiv \\frac{D_{\\rm ds}}{D_{\\rm s}} \\hat{\\boldsymbol{\\alpha}}(D_{\\rm d}\\boldsymbol{\\theta}). $$ \n",
    "\n",
    "We can write the observed deflection angle $\\boldsymbol{\\alpha}$ as\n",
    "\n",
    "$$ \\boldsymbol{\\alpha}(\\boldsymbol{\\theta}) = \\frac{1}{\\pi} \\int_{\\mathbb{R}^2} {\\rm d^2}\\boldsymbol{\\theta'} \\kappa(\\boldsymbol{\\theta'}) \\frac{\\boldsymbol{\\theta} - \\boldsymbol{\\theta'}}{\\left| \\boldsymbol{\\theta} - \\boldsymbol{\\theta'} \\right|^2},$$\n",
    "\n",
    "where $\\kappa$ is the dimensionless lensing surface mass density with\n",
    "\n",
    "$$\\kappa(\\boldsymbol{\\theta}) = \\frac{\\Sigma(D_{\\rm d}\\boldsymbol{\\theta})}{\\Sigma_{\\rm crit}}$$\n",
    "\n",
    "and\n",
    "\n",
    "$$ \\Sigma_{\\rm crit} = \\frac{c^2}{4\\pi G} \\frac{D_{\\rm s}}{D_{\\rm d}D_{\\rm ds}}.$$\n",
    "\n"
   ]
  },
  {
   "cell_type": "code",
   "execution_count": null,
   "metadata": {},
   "outputs": [],
   "source": [
    "# lenstronomy computation of deflection angles as seen on the sky - short example\n",
    "\n",
    "from lenstronomy.LensModel.lens_model import LensModel\n",
    "lens_model_sis = LensModel(lens_model_list=['SIS'])  # Lens Model instance with a singular isothermal sphere\n",
    "kwargs_sis = [{'theta_E': 1, 'center_x': 0, 'center_y': 0}]\n",
    "theta_x, theta_y = 1, 0.2  # angular coordinates where to evaluate the defleciton angle\n",
    "alpha_x, alpha_y = lens_model_sis.alpha(theta_x, theta_y, kwargs_sis)  # evaluation of the deflection angles in both directions\n",
    "\n",
    "# we can also ray-trace, meaning calculating the source position beta given the image position and a deflection field\n",
    "beta_x, beta_y = lens_model_sis.ray_shooting(theta_x, theta_y, kwargs_sis)\n",
    "\n",
    "# by definition, image position, deflection angle and source positions are related by the lens equation\n",
    "npt.assert_almost_equal(theta_x - alpha_x, beta_x, decimal=10)\n",
    "npt.assert_almost_equal(theta_y - alpha_y, beta_y, decimal=10)\n"
   ]
  },
  {
   "cell_type": "markdown",
   "metadata": {},
   "source": [
    "## Lensing potential\n",
    "\n",
    "\n",
    "In the single lens plane regime we can introduce the lensing potential $\\psi$ such that the reduced deflection angle is the gradient of the potential\n",
    "\n",
    "$$\n",
    "    \\boldsymbol{\\alpha}(\\boldsymbol{\\theta}) = \\nabla \\psi(\\boldsymbol{\\theta})\n",
    "$$\n",
    "and the lensing convergence is\n",
    "$$\n",
    "    \\kappa(\\boldsymbol{\\theta}) =  \\frac{1}{2}\\nabla^2 \\psi(\\boldsymbol{\\theta}).\n",
    "$$\n",
    "\n",
    "Using\n",
    "\n",
    "$$ \\nabla \\ln(\\boldsymbol{|\\theta|}) = \\frac{\\boldsymbol{\\theta}}{\\left|\\boldsymbol{\\theta}^2\\right|}$$\n",
    "\n",
    "we can write\n",
    "\n",
    "$$ \\psi(\\boldsymbol{\\theta}) = \\int_{\\mathbb{R}^2} {\\rm d^2}\\boldsymbol{\\theta'} \\kappa(\\boldsymbol{\\theta'}) \\ln(\\boldsymbol{\\theta} - \\boldsymbol{\\theta'}).\n",
    "$$\n",
    "\n",
    "\n"
   ]
  },
  {
   "cell_type": "code",
   "execution_count": null,
   "metadata": {},
   "outputs": [],
   "source": [
    "# lenstronomy computation of lensing example for the same lens model (units in arc seconds square)\n",
    "psi = lens_model_sis.potential(theta_x, theta_y, kwargs_sis)  # evaluation the lensing potential\n"
   ]
  },
  {
   "cell_type": "markdown",
   "metadata": {},
   "source": [
    "## Fermat potential\n",
    "\n",
    "We can define a scalar function, known as the Fermat potential:\n",
    "$$ \\tau(\\boldsymbol{\\theta}, \\boldsymbol{\\beta}) \\equiv  \\frac{1}{2}\\left(\\boldsymbol{\\theta} - \\boldsymbol{\\beta} \\right)^2 - \\psi(\\boldsymbol{\\theta})$$.\n",
    "\n",
    "The extrema of this function\n",
    "\n",
    "$$ \\nabla_{\\tau}(\\boldsymbol{\\theta}, \\boldsymbol{\\beta}) = 0$$\n",
    "\n",
    "satisfy the lens equation\n",
    "\n",
    "$$ \\boldsymbol{\\beta} = \\boldsymbol{\\theta} - \\boldsymbol{\\alpha}(\\boldsymbol{\\theta})$$.\n",
    "\n",
    "\n"
   ]
  },
  {
   "cell_type": "markdown",
   "metadata": {},
   "source": [
    "## Fermat's principle\n",
    "\n",
    "The Fermat potential is proportional to an excess time delay $\\Delta t$ of the path relative to a straight unlensed path.\n",
    "\n",
    "\n",
    "Fermat's principle states: Rays of light traverse the path of stationary optical length with respect to variations of the path, i.e.\n",
    "$$ \\nabla t = \\nabla \\tau = 0  $$\n",
    "\n",
    "The first term of the Fermat potential is the geometric time delay $\\frac{1}{2}\\left(\\boldsymbol{\\theta} - \\boldsymbol{\\beta} \\right)^2$, the second term is the Shapiro delay $\\psi(\\boldsymbol{\\theta})$.\n",
    "\n",
    "Relation to Huygen's construction: Wave optics requires that parallel wavefronts remain parallel. The potential depth acts as a diffractive index and the solution is the lens equation with the associated deflection angles.\n",
    "\n",
    "\n",
    "\n"
   ]
  },
  {
   "cell_type": "code",
   "execution_count": null,
   "metadata": {},
   "outputs": [],
   "source": [
    "# lenstronomy computation of Fermat potential for the same lens model (units in arc seconds square)\n",
    "psi = lens_model_sis.fermat_potential(theta_x, theta_y, kwargs_sis)  # evaluation the Fermat potential"
   ]
  },
  {
   "cell_type": "markdown",
   "metadata": {},
   "source": [
    "## Time delays\n",
    "\n",
    "The time delay relative to an unlensed path is given by\n",
    "\n",
    "$$ t(\\boldsymbol{\\theta}, \\boldsymbol{\\beta}) = \\frac{1 + z_{\\rm d}}{c}\\frac{D_{\\rm d}D_{\\rm s}}{D_{\\rm ds}} \\tau(\\boldsymbol{\\theta}, \\boldsymbol{\\beta}),$$\n",
    "\n",
    "where $c$ is the speed of light, $z_{\\rm d}$ is the deflector redshift, $\\tau$ the Fermat potential and $D_{\\rm d}$, $D_{\\rm s}$ and $D_{\\rm ds}$ are the angular diameter distances from the observer to the lens, from the observer to the source, and from the deflector to the source, respectively.\n",
    "\n",
    "$\\tau$ is a geometrical quantity (units of radians or arc seconds) solely defined by the optical quantities imprinted in the relative mapping from the source to the image plan (lens equation), while the quantity \n",
    "\n",
    "$$D_{\\Delta t} \\equiv \\left(1+ z_{\\rm d} \\right) \\frac{D_{\\rm d}D_{\\rm s}}{D_{\\rm ds}} $$\n",
    "is known as the time-delay distance and imprints the cosmology-dependent absolute distances.\n",
    "\n"
   ]
  },
  {
   "cell_type": "code",
   "execution_count": null,
   "metadata": {},
   "outputs": [],
   "source": [
    "# lenstronomy computation of time delays\n",
    "# for this quantity, we require knowledge of the angular diameter distances, and thus a cosmology as well as the redshift of the deflector and source.\n",
    "# We are using the astropy cosmology library to define and calculate the cosmological distances\n",
    "\n",
    "# create astropy.cosmology instance of input cosmology\n",
    "from astropy.cosmology import FlatLambdaCDM\n",
    "# Flat LCDM cosmology\n",
    "cosmo = FlatLambdaCDM(H0=70, Om0=0.3)\n",
    "\n",
    "z_lens = 0.3\n",
    "z_source = 1.5\n",
    "\n",
    "lens_model_sis = LensModel(lens_model_list=['SIS'], z_lens=z_lens, z_source=z_source, cosmo=cosmo)  # Lens Model instance with a singular isothermal sphere, redshifts and cosmology\n",
    "dt = lens_model_sis.arrival_time(theta_x, theta_y, kwargs_sis)  # evaluation arrival time relative to a straight unlensed path (in units of days)\n",
    "\n",
    "print('Time delay is %s days relative to unlensed path.' % dt)  # negative sign means that the arrival time is BEFORE the unlensed ray"
   ]
  },
  {
   "cell_type": "markdown",
   "metadata": {},
   "source": [
    "## Distortions and magnification\n",
    "\n",
    "The change in the deflection field results in distortions in extended images and magnification effects in unresolved small sources.\n",
    "\n",
    "We can define the lensing Jacobian $\\mathbf{A}$ as the differential of the lens equation\n",
    "\n",
    "$$ A_{ij} \\equiv {\\frac {\\partial \\beta _{i}}{\\partial \\theta _{j}}}=\\delta _{ij}-{\\frac {\\partial \\alpha _{i}}{\\partial \\theta _{j}}}=\\delta _{ij}-{\\frac {\\partial ^{2}\\psi }{\\partial \\theta _{i}\\partial \\theta _{j}}}\n",
    "=\\left[{\\begin{array}{c c }1-\\kappa -\\gamma _{1}&\\gamma _{2}\\\\\\gamma _{2}&1-\\kappa +\\gamma _{1}\\end{array}}\\right]\n",
    "$$\n",
    "\n",
    "where $\\delta_{ij}$ is the Kronecker delta and we have define the derivatives\n",
    "$$\n",
    "\\kappa \\equiv{\\partial \\psi  \\over 2\\partial \\theta _{1}\\partial \\theta _{1}}+{\\partial \\psi  \\over 2\\partial \\theta _{2}\\partial \\theta _{2}},~\\gamma _{1}\\equiv {\\partial \\psi  \\over 2\\partial \\theta _{1}\\partial \\theta _{1}}-{\\partial \\psi  \\over 2\\partial \\theta _{2}\\partial \\theta _{2}},~\\gamma _{2}\\equiv {\\partial \\psi  \\over \\partial \\theta _{1}\\partial \\theta _{2}}.\n",
    "$$\n",
    "\n",
    "We see that in this way, convergence is a property of a vector field rather a physical quantity. It happens that this vector field quantity corresponds to scales surface mass density (for a single plane deflector).\n",
    "\n",
    "The determinant of the Jacobian $\\mathbf{A}$ defines the mapping of an infinitesimal area element from the  image plane to the source plane. Lensing perserves surface brightness. It is the differential change in area that causes different amplifications due to lensing (i.e. the surface brightness of a star has always the same brightness and temperature, but the observed angular size of the star can change by lensing).\n",
    "\n",
    "The lensing amplification (or magnification) $\\mu$, the ratio of lensed observed flux divided by the intrinsic unlensed flux is given by the inverse determinant of the Jacobian\n",
    "\n",
    "$$ \\mu \\equiv \\frac{F_{\\rm lensed}}{F_{\\rm unlensed}} = 1/\\det(A_{ij})={1 \\over (1-\\kappa )^{2}-\\gamma _{1}^{2}-\\gamma _{2}^{2}}.\n",
    "$$\n",
    "\n",
    "The determinant has a sign (can be positive or negative). A negative sign means that the infinitesimal image is mirrored (changed parity) in respect to the unlensed source."
   ]
  },
  {
   "cell_type": "code",
   "execution_count": null,
   "metadata": {},
   "outputs": [],
   "source": [
    "# lenstronomy commands to calculate distortion components\n",
    "\n",
    "psi_xx, psi_xy, psi_yx, psi_yy = lens_model_sis.hessian(theta_x, theta_y, kwargs_sis)  # Hessian; second derivative of the potential\n",
    "kappa = lens_model_sis.kappa(theta_x, theta_y, kwargs_sis)  # convergence\n",
    "gamma1, gamma2 = lens_model_sis.gamma(theta_x, theta_y, kwargs_sis)  # shear\n",
    "mu = lens_model_sis.magnification(theta_x, theta_y, kwargs_sis)  # magnification\n",
    "\n",
    "# and here we check whether the definitions are correct\n",
    "npt.assert_almost_equal(kappa, 1/2. * (psi_xx + psi_yy), decimal=10)\n",
    "npt.assert_almost_equal(gamma1, 1/2. * (psi_xx - psi_yy), decimal=10)\n",
    "npt.assert_almost_equal(gamma2, psi_xy, decimal=10)\n",
    "npt.assert_almost_equal(mu, 1 / ((1-kappa)**2 - gamma1**2 - gamma2**2), decimal=10)\n"
   ]
  },
  {
   "cell_type": "markdown",
   "metadata": {},
   "source": [
    "## Illustration of lensing effect\n",
    "\n",
    "In the next block we are setting up a singular isothermal ellipse (SIE) model with a constant external shear field and illustrate the lensing quantities we have introduced above."
   ]
  },
  {
   "cell_type": "code",
   "execution_count": null,
   "metadata": {},
   "outputs": [],
   "source": [
    "# illustration of lensing quantities\n",
    "from lenstronomy.Plots.lens_plot import lens_model_plot, arrival_time_surface\n",
    "from lenstronomy.Util import util\n",
    "\n",
    "lens_model_sie_shear = LensModel(lens_model_list=['SIE', 'SHEAR'], z_lens=z_lens, z_source=z_source, cosmo=cosmo)\n",
    "\n",
    "kwargs_lens_sie_shear = [{'theta_E': 1.5, 'e1': 0, 'e2': 0.2, 'center_x': 0, 'center_y': 0},  # SIE model parameters\n",
    "                         {'gamma1': 0.04, 'gamma2': 0}  # Shear model parameters\n",
    "                        ]\n",
    "\n",
    "source_x, source_y = 0.01, -0.1  # source position\n",
    "\n",
    "\n",
    "\n",
    "\n",
    "# coordinate grid for plotting\n",
    "num_pix = 200\n",
    "delta_pix = 0.02\n",
    "\n",
    "x_grid, y_grid = util.make_grid(numPix=num_pix, deltapix=delta_pix)\n",
    "\n",
    "kwargs_lens_plot = {'with_caustics': True, 'fast_caustic': True, 'point_source': True,\n",
    "                   'with_convergence': True, 'numPix': num_pix, 'deltaPix': delta_pix}\n",
    "\n",
    "f, axex = plt.subplots(2, 3, figsize=(14, 10))\n",
    "\n",
    "\n",
    "\n",
    "# image positions, critical curves and caustics\n",
    "lens_model_plot(axex[0, 0], lens_model_sie_shear, kwargs_lens_sie_shear, \n",
    "                          sourcePos_x=source_x, \n",
    "                          sourcePos_y=source_y, **kwargs_lens_plot)\n",
    "axex[0, 0].set_title('Critical curves and caustics', fontsize=20)\n",
    "\n",
    "arrival_time_surface(axex[0, 1], lens_model_sie_shear, kwargs_lens_sie_shear, sourcePos_x=source_x, \n",
    "                     sourcePos_y=source_y, numPix=num_pix, deltaPix=delta_pix, point_source=True)\n",
    "axex[0, 1].set_title('Fermat potential', fontsize=20)\n",
    "\n",
    "mu = lens_model_sie_shear.magnification(x_grid, y_grid, kwargs_lens_sie_shear)\n",
    "mu = util.array2image(mu)\n",
    "\n",
    "axex[0, 2].matshow(mu, origin='lower', vmin=-20, vmax=20)\n",
    "axex[0, 2].set_title(r'Magnification $\\mu$', fontsize=20)\n",
    "\n",
    "gamma1, gamma2 = lens_model_sie_shear.gamma(x_grid, y_grid, kwargs_lens_sie_shear)\n",
    "\n",
    "axex[1, 0].matshow(util.array2image(gamma1), origin='lower', vmin=-2, vmax=2)\n",
    "axex[1, 0].set_title(r'Shear $\\gamma_1$', fontsize=20)\n",
    "\n",
    "axex[1, 1].matshow(util.array2image(gamma2), origin='lower', vmin=-2, vmax=2)\n",
    "axex[1, 1].set_title(r'Shear $\\gamma_2$', fontsize=20)\n",
    "\n",
    "\n",
    "alpha_x, alpha_y = lens_model_sie_shear.alpha(x_grid, y_grid, kwargs_lens_sie_shear)\n",
    "axex[1, 2].matshow(util.array2image(alpha_x), origin='lower', vmin=-2, vmax=2)\n",
    "axex[1, 2].set_title(r'Deflection angle $\\alpha_x$', fontsize=20)\n",
    "\n",
    "plt.tight_layout()\n",
    "plt.show()\n"
   ]
  },
  {
   "cell_type": "markdown",
   "metadata": {},
   "source": [
    "## Critical curves and caustics\n",
    "\n",
    "The curve with $\\det(A) = 0$ in the image plane is called the critical curve. This is a curve with formally infinite magnification (for any finite source, this is physically still resulting in finite magnification and overall photon number conservation). The corresponding ray-traced coordinates in the source plane $\\beta$ are called the caustic curves.\n",
    "\n",
    "Critical curves and caustics are a practically usefull concept to describe the structure of a lens."
   ]
  },
  {
   "cell_type": "markdown",
   "metadata": {},
   "source": [
    "## Image configurations\n",
    "\n",
    "Specific configurations of quadruply imaged point-like sources have been given names. The image configurations depend on the position within the caustic. Here we provide some examples."
   ]
  },
  {
   "cell_type": "code",
   "execution_count": null,
   "metadata": {},
   "outputs": [],
   "source": [
    "# ===========================================================\n",
    "# defining a lens model (Singular Isothermal Ellipse + Shear)\n",
    "# ===========================================================\n",
    "\n",
    "from lenstronomy.LensModel.lens_model import LensModel\n",
    "\n",
    "lens_model = LensModel(lens_model_list=['SIE', 'SHEAR'])\n",
    "\n",
    "kwargs_lens = [{'theta_E': 1.5, 'e1': 0, 'e2': 0.2, 'center_x': 0, 'center_y': 0},\n",
    "               {'gamma1': 0.04, 'gamma2': 0}]\n",
    "\n",
    "\n",
    "\n",
    "\n",
    "# ========================================================================\n",
    "# defining soure positions to lead to cusp, fold, and cross configurations\n",
    "# ========================================================================\n",
    "\n",
    "kwargs_ps_cross = [{'ra_source': 0.02, 'dec_source': 0}]  # cross\n",
    "kwargs_ps_fold = [{'ra_source': 0.15, 'dec_source': 0}]  # cusp\n",
    "kwargs_ps_cusp = [{'ra_source': 0.05, 'dec_source': 0.1}]  # fold\n",
    "\n",
    "\n",
    "# =========================================\n",
    "# illustrate image configurations in figure\n",
    "# =========================================\n",
    "\n",
    "from lenstronomy.Plots.lens_plot import lens_model_plot, arrival_time_surface\n",
    "\n",
    "\n",
    "kwargs_lens_plot = {'with_caustics': True, 'fast_caustic': True, 'point_source': True,\n",
    "                   'with_convergence': False, 'numPix': 200, 'deltaPix': 0.02}\n",
    "\n",
    "f, axex = plt.subplots(1, 3, figsize=(14, 5))\n",
    "# cross\n",
    "lens_model_plot(axex[0], lens_model, kwargs_lens, \n",
    "                          sourcePos_x=kwargs_ps_cross[0]['ra_source'], \n",
    "                          sourcePos_y=kwargs_ps_cross[0]['dec_source'], **kwargs_lens_plot)\n",
    "axex[0].set_title('Cross', fontsize=20)\n",
    "\n",
    "# cusp\n",
    "lens_model_plot(axex[1], lens_model, kwargs_lens,\n",
    "                          sourcePos_x=kwargs_ps_cusp[0]['ra_source'], \n",
    "                          sourcePos_y=kwargs_ps_cusp[0]['dec_source'], **kwargs_lens_plot)\n",
    "axex[1].set_title('Cusp', fontsize=20)\n",
    "\n",
    "# fold\n",
    "lens_model_plot(axex[2], lens_model, kwargs_lens,\n",
    "                          sourcePos_x=kwargs_ps_fold[0]['ra_source'], \n",
    "                          sourcePos_y=kwargs_ps_fold[0]['dec_source'], **kwargs_lens_plot)\n",
    "axex[2].set_title('Fold', fontsize=20)\n",
    "f.tight_layout()\n",
    "f.show()\n",
    "\n",
    "\n"
   ]
  },
  {
   "cell_type": "code",
   "execution_count": null,
   "metadata": {},
   "outputs": [],
   "source": []
  }
 ],
 "metadata": {
  "kernelspec": {
   "display_name": "Python 3",
   "language": "python",
   "name": "python3"
  },
  "language_info": {
   "codemirror_mode": {
    "name": "ipython",
    "version": 3
   },
   "file_extension": ".py",
   "mimetype": "text/x-python",
   "name": "python",
   "nbconvert_exporter": "python",
   "pygments_lexer": "ipython3",
   "version": "3.8.3"
  }
 },
 "nbformat": 4,
 "nbformat_minor": 2
}
