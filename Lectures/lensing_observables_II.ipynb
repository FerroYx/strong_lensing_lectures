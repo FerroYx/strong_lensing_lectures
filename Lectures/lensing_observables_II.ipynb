{
 "cells": [
  {
   "cell_type": "markdown",
   "metadata": {},
   "source": [
    "# Lensing observables and degeneracies\n",
    "\n",
    "In this notebook, we are describing and experimenting with observables of gravitational lensing and degeneracies involved.\n",
    "\n",
    "This notebook is self-constained but it is recommended to first go through the part I notebook.\n"
   ]
  },
  {
   "cell_type": "code",
   "execution_count": 12,
   "metadata": {},
   "outputs": [
    {
     "name": "stdout",
     "output_type": "stream",
     "text": [
      "Defaulting to user installation because normal site-packages is not writeable\n",
      "Requirement already satisfied: lenstronomy in /Users/sibirrer/Software/lenstronomy (1.8.2)\n",
      "Requirement already satisfied: numpy>=1.13 in /Users/sibirrer/Library/Python/3.6/lib/python/site-packages (from lenstronomy) (1.17.3)\n",
      "Requirement already satisfied: scipy>=0.14.0 in /Users/sibirrer/Library/Python/3.6/lib/python/site-packages (from lenstronomy) (1.4.1)\n",
      "Requirement already satisfied: configparser in /Users/sibirrer/Library/Python/3.6/lib/python/site-packages/configparser-3.5.0-py3.6.egg (from lenstronomy) (3.5.0)\n",
      "\u001b[33mWARNING: You are using pip version 21.1.2; however, version 21.1.3 is available.\n",
      "You should consider upgrading via the '/opt/local/bin/python -m pip install --upgrade pip' command.\u001b[0m\n",
      "Defaulting to user installation because normal site-packages is not writeable\n",
      "Requirement already satisfied: pyyaml==5.1 in /Users/sibirrer/Library/Python/3.6/lib/python/site-packages (5.1)\n",
      "\u001b[33mWARNING: You are using pip version 21.1.2; however, version 21.1.3 is available.\n",
      "You should consider upgrading via the '/opt/local/bin/python -m pip install --upgrade pip' command.\u001b[0m\n"
     ]
    }
   ],
   "source": [
    "!pip install lenstronomy  # tested with version 1.8.2\n",
    "!pip install pyyaml==5.1\n",
    "#!pip install corner\n",
    "\n",
    "import numpy as np\n",
    "import copy\n",
    "import matplotlib.pyplot as plt\n",
    "%matplotlib inline\n",
    "\n",
    "from lenstronomy.Util import util"
   ]
  },
  {
   "cell_type": "markdown",
   "metadata": {},
   "source": [
    "## Lensing image distortions\n",
    "\n",
    "Lensing conserves surface brightness. Given a source with an intrinsic brightness profile $I^{s}(\\boldsymbol{\\beta})$, the lensed image(s) have the surface brightness profile\n",
    "\n",
    "$$I(\\boldsymbol{\\theta}) = I^{s}[\\boldsymbol{\\beta}(\\boldsymbol{\\theta})],$$\n",
    "\n",
    "where $\\boldsymbol{\\beta}(\\boldsymbol{\\theta})$ is the mapping according to the lens equation.\n",
    "\n",
    "Instead of computing for a specific source position $\\boldsymbol{\\beta}$ where the images occur, it is (much) easier to start in the image plane $\\boldsymbol{\\theta}$ and map the coordinates back to the source plane.\n",
    "\n",
    "### weak lensing distortions\n",
    "\n",
    "Recap from notebook 1: The local lensing Jacobian is given by\n",
    "\n",
    "$$ A_{ij} \\equiv {\\frac {\\partial \\beta _{i}}{\\partial \\theta _{j}}}\n",
    "=\\left[{\\begin{array}{c c }1-\\kappa -\\gamma _{1}&\\gamma _{2}\\\\\\gamma _{2}&1-\\kappa +\\gamma _{1}\\end{array}}\\right].\n",
    "$$\n",
    "\n",
    "In the linear regime, the mapping between the image and the source plane can be written with a constant lensing Jacobian $\\mathbf{A}$ as\n",
    "\n",
    "$$ \\boldsymbol{\\beta} - \\boldsymbol{\\beta_0} = \\mathbf{A}\\left(\\boldsymbol{\\theta} - \\boldsymbol{\\theta_0}\\right).\n",
    "$$\n",
    "\n",
    "In the linear regime, the inverse, the mapping from the source to the image plane, is analytical and given by\n",
    "\n",
    "$$ \\boldsymbol{\\theta} - \\boldsymbol{\\theta_0} = \\mathbf{A^1}\\left(\\boldsymbol{\\beta} - \\boldsymbol{\\beta_0}\\right).\n",
    "$$\n",
    "\n",
    "\n",
    "##### Round case:\n",
    "\n",
    "A round source with radius $R$ will be mapped to an ellipse.\n",
    "\n",
    "The major axis $R_a$ is given by\n",
    "$$ R_a = \\frac{R}{1 - \\kappa - |\\gamma|} = \\frac{R}{(1-\\kappa)(1-|g|)} $$\n",
    "and the minor axis $R_b$ is given by\n",
    "$$ R_b = \\frac{R}{1 - \\kappa + |\\gamma|} = \\frac{R}{(1-\\kappa)(1+|g|)} $$\n",
    "with $|\\gamma| = \\sqrt{\\gamma_1^2 + \\gamma_2^2}$ is the absolute shear strength and \n",
    "\n",
    "$$g = \\frac{\\gamma}{1-\\kappa} $$\n",
    "is the reduced shear strength.\n",
    "\n",
    "We can alternatively write the shear components $\\gamma_1$ and $\\gamma_2$ as\n",
    "$$\\gamma_1 = |\\gamma| \\times \\cos(2\\phi_{\\gamma})$$\n",
    "$$\\gamma_2 = |\\gamma| \\times \\sin(2\\phi_{\\gamma})$$\n",
    "\n",
    "where $\\phi_{\\gamma}$ is the shear angle along the major axis distortion from the x-axis in direction of the y-axis.\n",
    "\n",
    "The axis ratio of the lensed source $q$ is\n",
    "$$ q = \\frac{R_a}{R_b} = \\frac{1 + |g|}{1 - |g|}. $$\n",
    "\n",
    "The appeared shape of a $\\textit{known round}$ source leads to an estimate of the reduced shear\n",
    "$$ |g| = \\frac{1 - q}{1+ q} .$$\n",
    "\n",
    "The ratio of appeared to intrinsic size in given by the convergence $\\kappa$.\n"
   ]
  },
  {
   "cell_type": "code",
   "execution_count": 2,
   "metadata": {},
   "outputs": [
    {
     "data": {
      "text/html": [
       "<img src=\"https://raw.githubusercontent.com/sibirrer/strong_lensing_lectures/main/Graphics/lensing_distortions.png\" width=\"400\" height=\"400\"/>"
      ],
      "text/plain": [
       "<IPython.core.display.Image object>"
      ]
     },
     "execution_count": 2,
     "metadata": {},
     "output_type": "execute_result"
    }
   ],
   "source": [
    "from IPython.display import Image\n",
    "Image(url= \"https://raw.githubusercontent.com/sibirrer/strong_lensing_lectures/main/Graphics/lensing_distortions.png\", width=400, height=400)\n",
    "\n"
   ]
  },
  {
   "cell_type": "markdown",
   "metadata": {},
   "source": [
    "\n",
    "Transformation of a round source and impact of convergence and shear on the image. Image from [Narayan & Bartelmann 1996](https://ui.adsabs.harvard.edu/abs/1996astro.ph..6001N/abstract).\n"
   ]
  },
  {
   "cell_type": "markdown",
   "metadata": {},
   "source": [
    "##### elliptical case - shape noise:\n",
    "\n",
    "If the intrinsic ellipticity is not known, then there is an ambiguity between the shape of the intrinsic source and the (linear) lensing effect. This is known as 'shape noise'.\n",
    "\n",
    "In the following we are going to experiment with this degeneracy and define an ellipsoid and a linear lens model with shear and convergence and perform the lensing distortion.\n"
   ]
  },
  {
   "cell_type": "markdown",
   "metadata": {},
   "source": [
    "\n",
    "We define the linear lensing distortions with $\\kappa$, $\\gamma_1$ and $\\gamma_2$ and we explore the effects and degeneracies among these parameters.\n",
    "\n",
    "For the ellipsoid, we chose a constant surface brightness within an elliptical radius $R$.\n",
    "In lenstronomy the ellipticity is defined with the eccentricity moduli $(e_1, e_2)$ defined as\n",
    "\n",
    "$$e_1 = \\frac{1-q}{1+q} \\cos(2\\phi_I)$$\n",
    "and \n",
    "$$e_2 = \\frac{1-q}{1+q} \\sin(2\\phi_I),$$\n",
    "\n",
    "where $q$ is the semi-minor to semi-major axis ratio of the profile and $\\phi_I$ is the orientation angle of the major axis ratio relative to the x-axis.\n",
    "\n",
    "The radius of the ellipsoid is defined as $r=\\sqrt{qx^2 + y^2/q}$ where $x$ is along the semi-major axis $a$ and $y$ is along the semi-minor axis $b$.\n",
    "\n",
    "The radius $R$ in this form is the product average $R=\\sqrt{R_a R_b}$.\n",
    "\n"
   ]
  },
  {
   "cell_type": "code",
   "execution_count": 3,
   "metadata": {},
   "outputs": [
    {
     "name": "stderr",
     "output_type": "stream",
     "text": [
      "/Users/sibirrer/Library/Python/3.6/lib/python/site-packages/ipykernel_launcher.py:49: UserWarning: Matplotlib is currently using module://ipykernel.pylab.backend_inline, which is a non-GUI backend, so cannot show the figure.\n"
     ]
    },
    {
     "name": "stdout",
     "output_type": "stream",
     "text": [
      "The total flux of the intrinsic source is 10007.662821618378 and of the lensed image 16669.252119672747 within the same aperture.\n"
     ]
    },
    {
     "data": {
      "image/png": "[encoded data removed]",
      "text/plain": [
       "<Figure size 1080x288 with 3 Axes>"
      ]
     },
     "metadata": {
      "needs_background": "light"
     },
     "output_type": "display_data"
    }
   ],
   "source": [
    "\n",
    "# define lens and light models\n",
    "from lenstronomy.LightModel.light_model import LightModel\n",
    "from lenstronomy.LensModel.lens_model import LensModel\n",
    "ellipsoid_light = LightModel(light_model_list=['ELLIPSOID'])\n",
    "lens_linear = LensModel(lens_model_list=['SHEAR', 'CONVERGENCE'])\n",
    "\n",
    "lens_reduced_shear = LensModel(lens_model_list=['SHEAR_REDUCED'])\n",
    "\n",
    "# set up a 2d coordinate grid in the image plane\n",
    "x_grid, y_grid = util.make_grid(numPix=200, deltapix=0.01)\n",
    "x_grid = util.array2image(x_grid)\n",
    "y_grid = util.array2image(y_grid)\n",
    "\n",
    "# define source shape parameters\n",
    "kwargs_ellipsoid_source = [{'amp': 1, 'radius': 0.5, 'center_x': 0, 'center_y': 0, 'e1': 0, 'e2': 0}]\n",
    "# define linear lensing distortions\n",
    "kwargs_lens_linear = [{'gamma1': 0.2, 'gamma2': 0},  # shear terms in Jacobian\n",
    "                     {'kappa_ext': 0.2}  # convergence term in Jacobian\n",
    "                     ]\n",
    "\n",
    "\n",
    "# compute intrinsic source surface brightness profile\n",
    "#flux_source = gauss_light.surface_brightness(x_grid, y_grid, kwargs_source)\n",
    "flux_source = ellipsoid_light.surface_brightness(x_grid, y_grid, kwargs_ellipsoid_source)\n",
    "\n",
    "# compute distorted surface brightness profile\n",
    "# we compute the source coordinates for the corresponding image coordinates\n",
    "beta_x_grid, beta_y_grid = lens_linear.ray_shooting(x_grid, y_grid, kwargs_lens_linear)\n",
    "# we evaluate the surface brightness at these distorted coordinates\n",
    "flux_image = ellipsoid_light.surface_brightness(beta_x_grid, beta_y_grid, kwargs_ellipsoid_source)\n",
    "\n",
    "# and we repeat the exercise with reduced shear terms\n",
    "beta_x_grid_red, beta_y_grid_red = lens_reduced_shear.ray_shooting(x_grid, y_grid, [kwargs_lens_linear[0]])\n",
    "flux_image_reduced = ellipsoid_light.surface_brightness(beta_x_grid_red, beta_y_grid_red, kwargs_ellipsoid_source)\n",
    "\n",
    "# we plot the intrinsic and distorted image\n",
    "\n",
    "f, axes = plt.subplots(1, 3, figsize=(15, 4))\n",
    "\n",
    "axes[0].matshow(flux_source, origin='lower')\n",
    "axes[0].set_title('Intrinsic source')\n",
    "\n",
    "axes[1].matshow(flux_image, origin='lower')\n",
    "axes[1].set_title('Lensed source')\n",
    "\n",
    "axes[2].matshow(flux_image_reduced, origin='lower')\n",
    "axes[2].set_title('Reduced shape distortion')\n",
    "\n",
    "f.show()\n",
    "\n",
    "\n",
    "print('The total flux of the intrinsic source is %s and of the lensed image %s within the same aperture.' % (np.sum(flux_source), np.sum(flux_image)))"
   ]
  },
  {
   "cell_type": "markdown",
   "metadata": {},
   "source": [
    "Given that on large scales, galaxies are uncorrelated in their orientation, on $\\textit{average}$ (in a stacking sense) galaxies are statistically round and the correlation of the $\\textit{measured}$ shape is a signal of gravitational lensing called cosmic shear."
   ]
  },
  {
   "cell_type": "markdown",
   "metadata": {},
   "source": [
    "### generalized shape noise\n",
    "\n",
    "To characterize general lensing degeneracies inherent in gravitational lensing, we define the following notation:\n",
    "$\\mathbf {L}$ is the lensing operator distorting the source, effectively mapping the lensed coordinates, $\\boldsymbol{\\theta}$, to the coordinates prior to lensing, $\\boldsymbol{\\beta}$. In general terms, $\\mathbf {L}$ describes a coordinate mapping. The lens equation can be written in this notation as $\\mathbf {L}(\\boldsymbol{\\theta}) = \\boldsymbol{\\theta} - \\boldsymbol{\\alpha}(\\boldsymbol{\\theta})$.\n",
    "Given an intrinsic source morphology $\\mathbf {S}$, such that $\\mathbf {S}(\\boldsymbol{\\beta})$ describes the intrinsic surface brightness at position $\\boldsymbol{\\beta}$, the distorted image, $\\mathbf {D}(\\boldsymbol{\\theta})$, can be written as\n",
    "$$\n",
    "\\mathbf {D}(\\boldsymbol{\\theta}) = \\mathbf {S}(\\mathbf{L}(\\boldsymbol{\\theta})).\n",
    "$$\n",
    "In terms of the operator notation, $\\mathbf {L}$ is acting on $\\mathbf {S}$ resulting in $\\mathbf {D}$, stating as \n",
    "$$\n",
    "{\\mathbf D} = \\mathbf {L \\circ S}.\n",
    "$$\n",
    "\n",
    "With this notation, we can describe the general invariance between lensing operator $\\mathbf {L}$ and source morphology $\\mathbf {S}$ resulting in the same image $\\mathbf {D}$ with one single additional mapping operator $\\mathbf {J}$, by expanding expression above with the unity operator (now written as $\\mathbf {J}^{-1}\\mathbf {J}$) as\n",
    "\n",
    "$$\n",
    "\t{\\mathbf D} = \\mathbf {L \\circ S} = \\mathbf {L \\circ} \\mathbb{1} \\mathbf {\\circ S} \n",
    "\t= \\mathbf {L \\circ  (J^{-1}  J) \\circ S} \\\\\n",
    "\t= \\mathbf {(L \\circ  J^{-1})\\circ  (J \\circ S)} \\equiv \\mathbf{\\tilde{L} \\circ \\tilde{S}}.\n",
    "$$\n",
    "In the last line, we defined the transformed deflection operator, $\\mathbf {\\tilde{L}} \\equiv \\mathbf {L \\circ J^{-1}}$, and transformed source, $\\mathbf {\\tilde{S}} \\equiv \\mathbf {J \\circ S}$, resulting in the same image $\\mathbf {D}$.\n",
    "The only formal requirement on $\\mathbf {J}$ in the equation above is that the mapping is bijective and the inverse $\\mathbf {J}^{-1}$ is uniquely defined over the extent of image $\\mathbf {D}$.\n",
    "\n",
    "In summary, for any bijective angular mapping operator $\\mathbf {J}$, there exists an alternative solution to the lens equation,  ${\\mathbf D} = \\mathbf{\\tilde{L} \\circ \\tilde{S}}$ with source $\\mathbf {\\tilde{S}} = \\mathbf {J \\circ S}$ and lens $\\mathbf {\\tilde{L}} = \\mathbf {L \\circ J^{-1}}$. This statement is an operator formulation of the Source Position Transform (SPT)."
   ]
  },
  {
   "cell_type": "markdown",
   "metadata": {},
   "source": [
    "## multiple images\n",
    "\n",
    "In the previous block we have discussed how a single image gets distorted under a linear lensing distortion. In this block, we generalize the concept and identify the invariant observables in the presence of $\\textit{multiple}$ images in the strong lensing regime."
   ]
  },
  {
   "cell_type": "code",
   "execution_count": 4,
   "metadata": {},
   "outputs": [
    {
     "data": {
      "text/html": [
       "<img src=\"https://raw.githubusercontent.com/sibirrer/strong_lensing_lectures/main/Graphics/distortion_degeneracies.png\" width=\"400\" height=\"400\"/>"
      ],
      "text/plain": [
       "<IPython.core.display.Image object>"
      ]
     },
     "execution_count": 4,
     "metadata": {},
     "output_type": "execute_result"
    }
   ],
   "source": [
    "from IPython.display import Image\n",
    "Image(url= \"https://raw.githubusercontent.com/sibirrer/strong_lensing_lectures/main/Graphics/distortion_degeneracies.png\", width=400, height=400)\n",
    "\n"
   ]
  },
  {
   "cell_type": "markdown",
   "metadata": {},
   "source": [
    "Image from [Yang, Birrer, Treu 2020](https://ui.adsabs.harvard.edu/abs/2020MNRAS.496.2648Y/abstract)\n",
    "\n",
    "In the presence of two or more images, $\\mathbf{D_i}$, $\\mathbf{D_j}$, the relative operator translating one image into another can be determined without the knowledge of the intrinsic source $\\mathbf{S}$:\n",
    "\n",
    "$$\n",
    "\t\\mathbf {D_j} = \\mathbf {L_j \\circ S} =  \\mathbf {L_j \\circ L_i^{-1} \\circ D_i} = \\mathbf {\\tilde{L}_j \\circ \\tilde{L}_i^{-1} \\circ D_i}.\n",
    "$$\n",
    "In short, the measurable quantity in lensing under the full consideration of the SPT is the relative distortion operator $\\mathbf {L_j \\circ L_i^{-1}}$ between two images of the same source.\n",
    "\n",
    "Detailed discussions on observables and degeneracies can be found e.g. [in this work](https://arxiv.org/abs/2104.09522) (a bit biased by the author of this notebook) and with the accompanied [Jupyter notebooks](https://github.com/sibirrer/curved_arcs)."
   ]
  },
  {
   "cell_type": "markdown",
   "metadata": {},
   "source": [
    "## mass sheet degeneracy\n",
    "\n",
    "The mass-sheet transform (MST) is the scalar component of the general SPT ($\\mathbf {J}$). This scalar component is a multiplicative transform of the lens equation preserving image positions (and thus any higher order differentials too) under a linear source displacement $\\boldsymbol{\\beta} \\rightarrow \\lambda\\boldsymbol{\\beta}$ and was introduced by [Falco et al. 1985](https://ui.adsabs.harvard.edu/abs/1985ApJ...289L...1F/abstract) [Gorenstein et al. 1988](https://ui.adsabs.harvard.edu/abs/1988ApJ...327..693G/abstract) as such\n",
    "\n",
    "$$\n",
    "  \\lambda_{\\rm MST} \\boldsymbol{\\beta} = \\boldsymbol{\\theta} - \\lambda_{\\rm MST} \\boldsymbol{\\alpha}(\\boldsymbol{\\theta}) - (1 - \\lambda_{\\rm MST}) \\boldsymbol{\\theta}.\n",
    "$$\n",
    "The term $(1 - \\lambda_{\\rm MST}) \\boldsymbol{\\theta}$ in the equation above describes an infinite sheet of convergence (or mass) and hence the name mass-sheet transform.\n",
    "The corresponding transform of the convergence profile is given by\n",
    "$$\n",
    "  \\kappa_{\\rm MST}(\\boldsymbol{\\theta}) =  \\lambda_{\\rm MST} \\kappa(\\boldsymbol{\\theta}) - (1 - \\lambda_{\\rm MST}).\n",
    "$$\n",
    "\n",
    "The MST can be described as a global transform of the convergence and hence it can lead to physical solutions for a wide range of values of $\\lambda_{\\rm MST}$. A fact that makes the MST a prominent and relevant degeneracy for many applications, in particular the measurement of the Hubble constant with time-delay cosmography [Schneider & Sluse 2013](https://ui.adsabs.harvard.edu/abs/2013A%26A...559A..37S/abstract)[Birrer et al. 2016](https://ui.adsabs.harvard.edu/abs/2016JCAP...08..020B/abstract)[Sonnenfeld 2018](https://ui.adsabs.harvard.edu/abs/2018MNRAS.474.4648S/abstract)[Kochanek 2020](https://ui.adsabs.harvard.edu/abs/2020MNRAS.493.1725K/abstract)[Blum et al. 2020](https://ui.adsabs.harvard.edu/abs/2020ApJ...892L..27B/abstract)[Birrer et al. 2020](https://ui.adsabs.harvard.edu/abs/2020A%26A...643A.165B/abstract).\n",
    "Only observables related to the absolute source size, intrinsic magnification of the lensed source, the absolute lensing potential, or the relative time delay when imposing a known cosmology with absolute distances, are able to break this degeneracies."
   ]
  },
  {
   "cell_type": "markdown",
   "metadata": {},
   "source": [
    "In the following we generate a strong lensing image of a near-Einstein ring and perform the MST and demonstrate that the relative observables are invariant."
   ]
  },
  {
   "cell_type": "code",
   "execution_count": 23,
   "metadata": {},
   "outputs": [
    {
     "data": {
      "image/png": "[encoded data removed]",
      "text/plain": [
       "<Figure size 1008x720 with 4 Axes>"
      ]
     },
     "metadata": {
      "needs_background": "light"
     },
     "output_type": "display_data"
    }
   ],
   "source": [
    "# set up lens model\n",
    "from lenstronomy.LensModel.lens_model import LensModel\n",
    "lens_model = LensModel(lens_model_list=['SIE', 'CONVERGENCE'])\n",
    "kwargs_lens = [{'theta_E': 1.5, 'e1': 0.1, 'e2': -.2, 'center_x': 0, 'center_y': 0},\n",
    "              {'kappa_ext': 0}]  # we start without a convergence (mass) sheet\n",
    "\n",
    "# set up light model\n",
    "from lenstronomy.LightModel.light_model import LightModel\n",
    "light_model = LightModel(light_model_list=['GAUSSIAN_ELLIPSE'])\n",
    "kwargs_source = [{'amp': 1, 'sigma': 0.1, 'e1': 0.4, 'e2': 0, 'center_x': 0.03, 'center_y': 0.1}]\n",
    "\n",
    "\n",
    "def mst_transform(lambda_mst, kwargs_lens, kwargs_source):\n",
    "    \"\"\"\n",
    "    transforms the parameters of the lens and source model according to the MST\n",
    "    \n",
    "    :param lambda_mst: scalar MST transform\n",
    "    :kwargs_lens: keyword argument list of lens model parameters (in our case valid for a SIE model)\n",
    "    :kwargs_source: keyword argument list of source model parameters (in our case an elliptical Gaussian)\n",
    "    :return: transformed parameters under an MST\n",
    "    \"\"\"\n",
    "    kwargs_lens_mst = copy.deepcopy(kwargs_lens)\n",
    "    # scaling of lens model\n",
    "    kwargs_lens_mst[0]['theta_E'] *= lambda_mst\n",
    "    # adding a mass sheet\n",
    "    kwargs_lens_mst[1]['kappa_ext'] = 1 - lambda_mst\n",
    "    \n",
    "    # scaling of source size\n",
    "    kwargs_source_mst = copy.deepcopy(kwargs_source)\n",
    "    kwargs_source_mst[0]['sigma'] *= lambda_mst\n",
    "    kwargs_source_mst[0]['center_x'] *= lambda_mst\n",
    "    kwargs_source_mst[0]['center_y'] *= lambda_mst\n",
    "    return kwargs_lens_mst, kwargs_source_mst\n",
    "    \n",
    "    \n",
    "# set up a 2d coordinate grid in the image plane\n",
    "num_pix = 100\n",
    "delta_pix = 0.05\n",
    "x_grid, y_grid = util.make_grid(numPix=num_pix, deltapix=delta_pix)\n",
    "x_grid = util.array2image(x_grid)\n",
    "y_grid = util.array2image(y_grid)\n",
    "\n",
    "# ==================\n",
    "# system without MST\n",
    "# ==================\n",
    "\n",
    "# we compute the source coordinates for the corresponding image coordinates\n",
    "beta_x_grid, beta_y_grid = lens_model.ray_shooting(x_grid, y_grid, kwargs_lens)\n",
    "# we evaluate the surface brightness at these distorted coordinates\n",
    "flux_image = light_model.surface_brightness(beta_x_grid, beta_y_grid, kwargs_source)\n",
    "\n",
    "\n",
    "\n",
    "# ===============\n",
    "# system with MST\n",
    "# ===============\n",
    "\n",
    "lambda_mst = 0.5\n",
    "\n",
    "kwargs_lens_mst, kwargs_source_mst = mst_transform(lambda_mst, kwargs_lens, kwargs_source)\n",
    "\n",
    "# we compute the source coordinates for the corresponding image coordinates\n",
    "beta_x_grid_mst, beta_y_grid_mst = lens_model.ray_shooting(x_grid, y_grid, kwargs_lens_mst)\n",
    "# we evaluate the surface brightness at these distorted coordinates\n",
    "flux_image_mst = light_model.surface_brightness(beta_x_grid_mst, beta_y_grid_mst, kwargs_source_mst)\n",
    "\n",
    "\n",
    "from lenstronomy.Plots.lens_plot import lens_model_plot\n",
    "\n",
    "kwargs_lens_plot = {'with_caustics': True, 'fast_caustic': True, 'point_source': True,\n",
    "                   'with_convergence': True, 'numPix': num_pix, 'deltaPix': delta_pix}\n",
    "\n",
    "f, axes = plt.subplots(2, 2, figsize=(14, 10))\n",
    "\n",
    "axes[0, 0].matshow(flux_image, origin='lower')\n",
    "axes[0, 0].set_title(r'$\\lambda_{\\rm MST} = 1$', fontsize=20)\n",
    "\n",
    "lens_model_plot(axes[0, 1], lens_model, kwargs_lens, \n",
    "                          sourcePos_x=kwargs_source[0]['center_x'], \n",
    "                          sourcePos_y=kwargs_source[0]['center_y'], **kwargs_lens_plot)\n",
    "\n",
    "axes[1, 0].matshow(flux_image_mst, origin='lower')\n",
    "axes[1, 0].set_title(r'$\\lambda_{\\rm MST} = $ %s' % lambda_mst, fontsize=20)\n",
    "\n",
    "lens_model_plot(axes[1, 1], lens_model, kwargs_lens_mst, \n",
    "                          sourcePos_x=kwargs_source_mst[0]['center_x'], \n",
    "                          sourcePos_y=kwargs_source_mst[0]['center_y'], **kwargs_lens_plot)\n",
    "\n",
    "plt.show()\n"
   ]
  },
  {
   "cell_type": "markdown",
   "metadata": {},
   "source": [
    "\n",
    "## Summary\n",
    "\n",
    "Gravitational lensing observables with multiple images are\n",
    "\n",
    "- $\\textit{relative}$ image positions\n",
    "- $\\textit{relative}$ time delays\n",
    "- $\\textit{relative}$ image distortions\n",
    "- $\\textit{relative}$ magnifications\n",
    "\n",
    "Only when adding external knowledge about the intrinsic size, shape or brightness of an object, further information can be extracted.\n",
    "\n",
    "\n"
   ]
  },
  {
   "cell_type": "code",
   "execution_count": null,
   "metadata": {},
   "outputs": [],
   "source": []
  }
 ],
 "metadata": {
  "kernelspec": {
   "display_name": "Python 3",
   "language": "python",
   "name": "python3"
  },
  "language_info": {
   "codemirror_mode": {
    "name": "ipython",
    "version": 3
   },
   "file_extension": ".py",
   "mimetype": "text/x-python",
   "name": "python",
   "nbconvert_exporter": "python",
   "pygments_lexer": "ipython3",
   "version": "3.6.9"
  }
 },
 "nbformat": 4,
 "nbformat_minor": 2
}
