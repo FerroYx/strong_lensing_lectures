{
 "cells": [
  {
   "cell_type": "markdown",
   "metadata": {},
   "source": [
    "# Strong gravitational lensing\n",
    "\n",
    "### interactive lecture notes with code examples\n",
    "\n",
    "This lecture notebook provides the basic theory and equations of gravitational lensing and interactive code examples using [lenstronomy](https://github.com/sibirrer/lenstronomy)."
   ]
  },
  {
   "cell_type": "markdown",
   "metadata": {},
   "source": [
    "Additional material and partial sources of this notebook:\n",
    "    \n",
    "- [Lecture notes by M. Meneghetti](https://www.ita.uni-heidelberg.de/~jmerten/misc/meneghetti_lensing.pdf)\n",
    "- [Bartelmann & Schneider 2001; Weak gravitational lensing](https://ui.adsabs.harvard.edu/abs/2001PhR...340..291B/abstract)\n",
    "- [Slides by S. Suyu for the XXIV Canary Islands Winter School of Astrophysics 2012](http://research.iac.es/winterschool/2012/media/Suyu_L2.pdf)\n",
    "- [wikipedia: gravitational lensing formalism](https://en.wikipedia.org/wiki/Gravitational_lensing_formalism)"
   ]
  },
  {
   "cell_type": "markdown",
   "metadata": {},
   "source": [
    "# Theory\n",
    "\n",
    "In this part we go through the basic equations of gravitational lensing with an emphasis on the regime of one dominant main (strong) deflector."
   ]
  },
  {
   "cell_type": "markdown",
   "metadata": {},
   "source": [
    "## Lens equation\n",
    "\n",
    "The lens equation describes the distortion of a coordinate in the source plane as been seen on the image plane:\n",
    "\n",
    "$$ \\boldsymbol{\\eta} = \\frac{D_{\\rm S}}{D_{\\rm d}} \\boldsymbol{\\zeta} - D_{\\rm ds}\\hat{\\boldsymbol{\\alpha}}(\\boldsymbol{\\zeta}) $$\n",
    "\n",
    "In terms of angular coordinates $\\boldsymbol{\\eta} = D_{\\rm s} \\boldsymbol{\\beta}$ and $\\boldsymbol{\\zeta} = D_{\\rm d}\\boldsymbol{\\theta}$ the mapping results in\n",
    "\n",
    "$$ \\boldsymbol{\\beta} = \\boldsymbol{\\theta} - \\boldsymbol{\\alpha}(\\boldsymbol{\\theta})$$\n",
    "with\n",
    "$$\\boldsymbol{\\alpha}(\\boldsymbol{\\theta}) \\equiv \\frac{D_{\\rm ds}}{D_{\\rm s}} \\hat{\\boldsymbol{\\alpha}}(D_{\\rm d}\\boldsymbol{\\theta}).$$\n"
   ]
  },
  {
   "cell_type": "markdown",
   "metadata": {},
   "source": [
    "![Lens equation](lens_equation.png)\n",
    "Figure by [Bartelmann & Schneider 2001](https://ui.adsabs.harvard.edu/abs/2001PhR...340..291B/abstract).\n",
    "\n"
   ]
  },
  {
   "cell_type": "markdown",
   "metadata": {},
   "source": [
    "## Deflection angle \n",
    "$\\textit{(physical and reduced deflections)}$\n",
    "\n",
    "Fom General Relativity, a point mass deflects a light ray passing at an impact parameter $\\xi$ by a deflection\n",
    "\n",
    "$$\\hat{\\boldsymbol{\\alpha}} = \\frac{GM}{c^2 \\xi}. $$\n",
    "\n",
    "In the weak gravitational regime with small deflection angles, a light ray travelling through a path described as $(\\xi'_1, \\xi'_2, z')$ with density $\\rho$ will get phyiscally deflected by\n",
    "\n",
    "$$ \\hat{\\boldsymbol{\\alpha}}(\\boldsymbol{\\xi}) = \\frac{4G}{c^2} \\int {\\rm d^2}\\boldsymbol{\\xi'} \\int {\\rm d}z' \\rho(\\xi'_1, \\xi'_2, z') \\frac{\\boldsymbol{\\xi} - \\boldsymbol{\\xi'}}{\\left| \\boldsymbol{\\xi} - \\boldsymbol{\\xi'} \\right|^2}. $$\n",
    "\n",
    "In this regime, we can write the lensing quantities as a function of the projected surface mass density $\\Sigma(\\boldsymbol{\\xi})$\n",
    "\n",
    "$$ \\Sigma(\\boldsymbol{\\xi}) = \\int {\\rm d}z' \\rho(\\xi'_1, \\xi'_2, z') $$\n",
    "\n",
    "and with (from box above)\n",
    "$$\\boldsymbol{\\alpha}(\\boldsymbol{\\theta}) \\equiv \\frac{D_{\\rm ds}}{D_{\\rm s}} \\hat{\\boldsymbol{\\alpha}}(D_{\\rm d}\\boldsymbol{\\theta}) $$ \n",
    "\n",
    "we can write the observed deflection angle $\\boldsymbol{\\alpha}$ as\n",
    "\n",
    "$$ \\boldsymbol{\\alpha}(\\boldsymbol{\\theta}) = \\frac{1}{\\pi} \\int_{\\mathbb{R}^2} {\\rm d^2}\\boldsymbol{\\theta'} \\kappa(\\boldsymbol{\\theta'}) \\frac{\\boldsymbol{\\theta} - \\boldsymbol{\\theta'}}{\\left| \\boldsymbol{\\theta} - \\boldsymbol{\\theta'} \\right|^2},$$\n",
    "\n",
    "where $\\kappa$ is the dimensionless lensing surface mass density with\n",
    "\n",
    "$$\\kappa(\\boldsymbol{\\theta}) = \\frac{\\Sigma(D_{\\rm d}\\boldsymbol{\\theta})}{\\Sigma_{\\rm crit}}$$\n",
    "\n",
    "and\n",
    "\n",
    "$$ \\Sigma_{\\rm crit} = \\frac{c^2}{4\\pi G} \\frac{D_{\\rm s}}{D_{\\rm d}D_{\\rm ds}}.$$"
   ]
  },
  {
   "cell_type": "markdown",
   "metadata": {},
   "source": [
    "## Lensing potential\n",
    "\n",
    "\n",
    "In the single lens plane regime we can introduce the lensing potential $\\psi$ such that the reduced deflection angle is the gradient of the potential\n",
    "\n",
    "$$\n",
    "    \\boldsymbol{\\alpha}(\\boldsymbol{\\theta}) = \\nabla \\psi(\\boldsymbol{\\theta})\n",
    "$$\n",
    "and the lensing convergence is\n",
    "$$\n",
    "    \\kappa(\\boldsymbol{\\theta}) =  \\frac{1}{2}\\nabla^2 \\psi(\\boldsymbol{\\theta}).\n",
    "$$\n",
    "\n",
    "Using\n",
    "\n",
    "$$ \\nabla \\ln(\\boldsymbol{\\theta}) = \\frac{\\boldsymbol{\\theta}}{\\left|\\boldsymbol{\\theta}^2\\right|}$$\n",
    "\n",
    "we can write\n",
    "\n",
    "$$ \\psi(\\boldsymbol{\\theta}) = \\int_{\\mathbb{R}^2} {\\rm d^2}\\boldsymbol{\\theta'} \\kappa(\\boldsymbol{\\theta'}) \\ln(\\boldsymbol{\\theta} - \\boldsymbol{\\theta'}).\n",
    "$$\n",
    "\n",
    "\n"
   ]
  },
  {
   "cell_type": "markdown",
   "metadata": {},
   "source": [
    "## Fermat potential\n",
    "\n",
    "We can define a scalar function, known as the Fermat potential:\n",
    "$$ \\tau(\\boldsymbol{\\theta}, \\boldsymbol{\\beta}) \\equiv  \\frac{1}{2}\\left(\\boldsymbol{\\theta} - \\boldsymbol{\\beta} \\right)^2 - \\psi(\\boldsymbol{\\theta})$$.\n",
    "\n",
    "The extrema of this function\n",
    "\n",
    "$$ \\nabla_{\\tau}(\\boldsymbol{\\theta}, \\boldsymbol{\\beta}) = 0$$\n",
    "\n",
    "satisfy the lens equation\n",
    "\n",
    "$$ \\boldsymbol{\\beta} = \\boldsymbol{\\theta} - \\boldsymbol{\\alpha}(\\boldsymbol{\\theta})$$.\n",
    "\n",
    "\n",
    "## Fermat's principle\n",
    "\n",
    "The Fermat potential is proportional to an excess time delay $\\Delta t$ of the path relative to a straight unlensed path.\n",
    "\n",
    "\n",
    "Fermat's principle states: Rays of light traverse the path of stationary optical length with respect to variations of the path, i.e.\n",
    "$$ \\nabla t = \\nabla \\tau = 0  $$\n",
    "\n",
    "The first term of the Fermat potential is the geometric time delay $\\frac{1}{2}\\left(\\boldsymbol{\\theta} - \\boldsymbol{\\beta} \\right)^2$, the second term is the Shapiro delay $\\psi(\\boldsymbol{\\theta})$.\n",
    "\n",
    "Relation to Huygen's construction: Wave optics requires that parallel wavefronts remain parallel. The potential depth acts as a diffractive index and the solution is the lens equation with the associated deflection angles.\n",
    "\n",
    "\n"
   ]
  },
  {
   "cell_type": "markdown",
   "metadata": {},
   "source": [
    "## Time delays\n",
    "\n",
    "The time delay relative to an unlensed path is given by\n",
    "\n",
    "$$ t(\\boldsymbol{\\theta}, \\boldsymbol{\\beta}) = \\frac{1 + z_{\\rm d}}{c}\\frac{D_{\\rm d}D_{\\rm s}}{D_{\\rm ds}} \\tau(\\boldsymbol{\\theta}, \\boldsymbol{\\beta}),$$\n",
    "\n",
    "where $c$ is the speed of light, $z_{\\rm d}$ is the deflector redshift, $\\tau$ the Fermat potential and $D_{\\rm d}$, $D_{\\rm s}$ and $D_{\\rm ds}$ are the angular diameter distances from the observer to the lens, from the observer to the source, and from the deflector to the source, respectively.\n",
    "\n",
    "$\\tau$ is a geometrical quantity (units of radians or arc seconds) solely defined by the optical quantities imprinted in the relative mapping from the source to the image plan (lens equation), while the quantity \n",
    "\n",
    "$$D_{\\Delta t} \\equiv \\left(1+ z_{\\rm d} \\right) \\frac{D_{\\rm d}D_{\\rm s}}{D_{\\rm ds}} $$\n",
    "is known as the time-delay distance and imprints the cosmology-dependent absolute distances.\n",
    "\n"
   ]
  },
  {
   "cell_type": "markdown",
   "metadata": {},
   "source": [
    "## Distortions and magnification\n",
    "\n",
    "$$ A_{ij}={\\frac {\\partial \\beta _{i}}{\\partial \\theta _{j}}}=\\delta _{ij}-{\\frac {\\partial \\alpha _{i}}{\\partial \\theta _{j}}}=\\delta _{ij}-{\\frac {\\partial ^{2}\\psi }{\\partial \\theta _{i}\\partial \\theta _{j}}}\n",
    "=\\left[{\\begin{array}{c c }1-\\kappa -\\gamma _{1}&\\gamma _{2}\\\\\\gamma _{2}&1-\\kappa +\\gamma _{1}\\end{array}}\\right]\n",
    "$$\n",
    "\n",
    "where we have define the derivatives\n",
    "$$\n",
    "\\kappa \\equiv{\\partial \\psi  \\over 2\\partial \\theta _{1}\\partial \\theta _{1}}+{\\partial \\psi  \\over 2\\partial \\theta _{2}\\partial \\theta _{2}},~\\gamma _{1}\\equiv {\\partial \\psi  \\over 2\\partial \\theta _{1}\\partial \\theta _{1}}-{\\partial \\psi  \\over 2\\partial \\theta _{2}\\partial \\theta _{2}},~\\gamma _{2}\\equiv {\\partial \\psi  \\over \\partial \\theta _{1}\\partial \\theta _{2}}.\n",
    "$$\n",
    "\n",
    "We see that in this way, convergence is a property of a vector field rather a physical quantity. It happens that this vector field quantity corresponds to scales surface mass density (for a single plane deflector)."
   ]
  },
  {
   "cell_type": "markdown",
   "metadata": {},
   "source": [
    "# Observables\n",
    "\n",
    "In this part, we are describing and experimenting with observables.\n",
    "\n",
    "### Time delays\n",
    "A measureable quantity are relative time delays $\\Delta t(\\boldsymbol{\\theta_1}, \\boldsymbol{\\theta_2})$ between two or more images."
   ]
  },
  {
   "cell_type": "code",
   "execution_count": 1,
   "metadata": {},
   "outputs": [],
   "source": [
    "import matplotlib.pyplot as plt\n",
    "%matplotlib inline"
   ]
  },
  {
   "cell_type": "code",
   "execution_count": 2,
   "metadata": {},
   "outputs": [
    {
     "name": "stderr",
     "output_type": "stream",
     "text": [
      "/Users/sibirrer/Library/Python/3.6/lib/python/site-packages/ipykernel_launcher.py:48: UserWarning: Matplotlib is currently using module://ipykernel.pylab.backend_inline, which is a non-GUI backend, so cannot show the figure.\n"
     ]
    },
    {
     "data": {
      "image/png": "[encoded data removed]",
      "text/plain": [
       "<Figure size 1008x360 with 3 Axes>"
      ]
     },
     "metadata": {
      "needs_background": "light"
     },
     "output_type": "display_data"
    }
   ],
   "source": [
    "# ===========================================================\n",
    "# defining a lens model (Singular Isothermal Ellipse + Shear)\n",
    "# ===========================================================\n",
    "\n",
    "from lenstronomy.LensModel.lens_model import LensModel\n",
    "\n",
    "lens_model = LensModel(lens_model_list=['SIE', 'SHEAR'])\n",
    "\n",
    "kwargs_lens = [{'theta_E': 1.5, 'e1': 0, 'e2': 0.2, 'center_x': 0, 'center_y': 0},\n",
    "               {'gamma1': 0.04, 'gamma2': 0}]\n",
    "\n",
    "\n",
    "\n",
    "\n",
    "# ========================================================================\n",
    "# defining soure positions to lead to cusp, fold, and cross configurations\n",
    "# ========================================================================\n",
    "\n",
    "kwargs_ps_cross = [{'ra_source': 0.02, 'dec_source': 0}]  # cross\n",
    "kwargs_ps_cusp = [{'ra_source': 0.15, 'dec_source': 0}]  # cusp\n",
    "kwargs_ps_fold = [{'ra_source': 0.05, 'dec_source': 0.1}]  # fold\n",
    "\n",
    "\n",
    "# =========================================\n",
    "# illustrate image configurations in figure\n",
    "# =========================================\n",
    "\n",
    "from lenstronomy.Plots.lens_plot import lens_model_plot, arrival_time_surface\n",
    "\n",
    "\n",
    "kwargs_lens_plot = {'with_caustics': True, 'fast_caustic': True, 'point_source': True,\n",
    "                   'with_convergence': False, 'numPix': 200, 'deltaPix': 0.02}\n",
    "\n",
    "f, axex = plt.subplots(1, 3, figsize=(14, 5))\n",
    "# cross\n",
    "lens_model_plot(axex[0], lens_model, kwargs_lens, \n",
    "                          sourcePos_x=kwargs_ps_cross[0]['ra_source'], \n",
    "                          sourcePos_y=kwargs_ps_cross[0]['dec_source'], **kwargs_lens_plot)\n",
    "# cusp\n",
    "lens_model_plot(axex[1], lens_model, kwargs_lens,\n",
    "                          sourcePos_x=kwargs_ps_cusp[0]['ra_source'], \n",
    "                          sourcePos_y=kwargs_ps_cusp[0]['dec_source'], **kwargs_lens_plot)\n",
    "# fold\n",
    "lens_model_plot(axex[2], lens_model, kwargs_lens,\n",
    "                          sourcePos_x=kwargs_ps_fold[0]['ra_source'], \n",
    "                          sourcePos_y=kwargs_ps_fold[0]['dec_source'], **kwargs_lens_plot)\n",
    "f.tight_layout()\n",
    "f.show()\n",
    "\n"
   ]
  },
  {
   "cell_type": "code",
   "execution_count": 3,
   "metadata": {},
   "outputs": [],
   "source": [
    "#from IPython import display\n",
    "#display.Image(\"lens_equation.png\")"
   ]
  },
  {
   "cell_type": "code",
   "execution_count": null,
   "metadata": {},
   "outputs": [],
   "source": []
  }
 ],
 "metadata": {
  "kernelspec": {
   "display_name": "Python 3",
   "language": "python",
   "name": "python3"
  },
  "language_info": {
   "codemirror_mode": {
    "name": "ipython",
    "version": 3
   },
   "file_extension": ".py",
   "mimetype": "text/x-python",
   "name": "python",
   "nbconvert_exporter": "python",
   "pygments_lexer": "ipython3",
   "version": "3.6.9"
  }
 },
 "nbformat": 4,
 "nbformat_minor": 2
}
